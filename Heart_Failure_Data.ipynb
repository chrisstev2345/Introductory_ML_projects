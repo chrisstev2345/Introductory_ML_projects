{
 "cells": [
  {
   "cell_type": "code",
   "execution_count": 1,
   "metadata": {},
   "outputs": [
    {
     "name": "stdout",
     "output_type": "stream",
     "text": [
      "      age  anaemia  creatinine_phosphokinase  diabetes  ejection_fraction  \\\n",
      "0    75.0        0                       582         0                 20   \n",
      "1    55.0        0                      7861         0                 38   \n",
      "2    65.0        0                       146         0                 20   \n",
      "3    50.0        1                       111         0                 20   \n",
      "4    65.0        1                       160         1                 20   \n",
      "..    ...      ...                       ...       ...                ...   \n",
      "294  62.0        0                        61         1                 38   \n",
      "295  55.0        0                      1820         0                 38   \n",
      "296  45.0        0                      2060         1                 60   \n",
      "297  45.0        0                      2413         0                 38   \n",
      "298  50.0        0                       196         0                 45   \n",
      "\n",
      "     high_blood_pressure  platelets  serum_creatinine  serum_sodium  sex  \\\n",
      "0                      1  265000.00               1.9           130    1   \n",
      "1                      0  263358.03               1.1           136    1   \n",
      "2                      0  162000.00               1.3           129    1   \n",
      "3                      0  210000.00               1.9           137    1   \n",
      "4                      0  327000.00               2.7           116    0   \n",
      "..                   ...        ...               ...           ...  ...   \n",
      "294                    1  155000.00               1.1           143    1   \n",
      "295                    0  270000.00               1.2           139    0   \n",
      "296                    0  742000.00               0.8           138    0   \n",
      "297                    0  140000.00               1.4           140    1   \n",
      "298                    0  395000.00               1.6           136    1   \n",
      "\n",
      "     smoking  time  DEATH_EVENT  \n",
      "0          0     4            1  \n",
      "1          0     6            1  \n",
      "2          1     7            1  \n",
      "3          0     7            1  \n",
      "4          0     8            1  \n",
      "..       ...   ...          ...  \n",
      "294        1   270            0  \n",
      "295        0   271            0  \n",
      "296        0   278            0  \n",
      "297        1   280            0  \n",
      "298        1   285            0  \n",
      "\n",
      "[299 rows x 13 columns]\n"
     ]
    }
   ],
   "source": [
    "import numpy as ny\n",
    "import pandas as pd\n",
    "import seaborn as sns\n",
    "from pandas import DataFrame\n",
    "\n",
    "\n",
    "from sklearn.model_selection import train_test_split\n",
    "from sklearn.preprocessing import StandardScaler\n",
    "from sklearn.neighbors import KNeighborsClassifier\n",
    "from sklearn.metrics import confusion_matrix\n",
    "from sklearn import metrics\n",
    "\n",
    "heart_fail_data = pd.read_csv(r'C:\\Users\\chris\\Desktop\\Working_Datasets\\heart_failure_clinical_records_dataset.csv')\n",
    "df_heart = DataFrame(heart_fail_data)\n",
    "print(heart_fail_data)"
   ]
  },
  {
   "cell_type": "code",
   "execution_count": 43,
   "metadata": {},
   "outputs": [
    {
     "data": {
      "text/plain": [
       "0    203\n",
       "1     96\n",
       "Name: DEATH_EVENT, dtype: int64"
      ]
     },
     "execution_count": 43,
     "metadata": {},
     "output_type": "execute_result"
    }
   ],
   "source": [
    "heart_fail_data.DEATH_EVENT.value_counts()"
   ]
  },
  {
   "cell_type": "code",
   "execution_count": 44,
   "metadata": {},
   "outputs": [
    {
     "data": {
      "text/plain": [
       "0    203\n",
       "1     96\n",
       "Name: smoking, dtype: int64"
      ]
     },
     "execution_count": 44,
     "metadata": {},
     "output_type": "execute_result"
    }
   ],
   "source": [
    "heart_fail_data.smoking.value_counts()"
   ]
  },
  {
   "cell_type": "code",
   "execution_count": 45,
   "metadata": {},
   "outputs": [
    {
     "data": {
      "text/plain": [
       "0    194\n",
       "1    105\n",
       "Name: high_blood_pressure, dtype: int64"
      ]
     },
     "execution_count": 45,
     "metadata": {},
     "output_type": "execute_result"
    }
   ],
   "source": [
    "heart_fail_data.high_blood_pressure.value_counts()"
   ]
  },
  {
   "cell_type": "code",
   "execution_count": 46,
   "metadata": {},
   "outputs": [
    {
     "data": {
      "text/plain": [
       "1    194\n",
       "0    105\n",
       "Name: sex, dtype: int64"
      ]
     },
     "execution_count": 46,
     "metadata": {},
     "output_type": "execute_result"
    }
   ],
   "source": [
    "heart_fail_data.sex.value_counts()"
   ]
  },
  {
   "cell_type": "code",
   "execution_count": 47,
   "metadata": {},
   "outputs": [
    {
     "data": {
      "text/plain": [
       "0    174\n",
       "1    125\n",
       "Name: diabetes, dtype: int64"
      ]
     },
     "execution_count": 47,
     "metadata": {},
     "output_type": "execute_result"
    }
   ],
   "source": [
    "heart_fail_data.diabetes.value_counts()"
   ]
  },
  {
   "cell_type": "code",
   "execution_count": 48,
   "metadata": {},
   "outputs": [
    {
     "data": {
      "text/plain": [
       "0    170\n",
       "1    129\n",
       "Name: anaemia, dtype: int64"
      ]
     },
     "execution_count": 48,
     "metadata": {},
     "output_type": "execute_result"
    }
   ],
   "source": [
    "heart_fail_data.anaemia.value_counts()"
   ]
  },
  {
   "cell_type": "code",
   "execution_count": 49,
   "metadata": {
    "scrolled": true
   },
   "outputs": [
    {
     "data": {
      "image/png": "[encoded data removed]",
      "text/plain": [
       "<Figure size 432x288 with 1 Axes>"
      ]
     },
     "metadata": {
      "needs_background": "light"
     },
     "output_type": "display_data"
    }
   ],
   "source": [
    "plt.scatter(heart_fail_data['serum_creatinine'], heart_fail_data['creatinine_phosphokinase'])\n",
    "plt.show()"
   ]
  },
  {
   "cell_type": "code",
   "execution_count": 23,
   "metadata": {},
   "outputs": [
    {
     "data": {
      "image/png": "[encoded data removed]",
      "text/plain": [
       "<Figure size 432x288 with 1 Axes>"
      ]
     },
     "metadata": {
      "needs_background": "light"
     },
     "output_type": "display_data"
    }
   ],
   "source": [
    "plt.scatter(x = heart_fail_data.serum_creatinine[heart_fail_data.DEATH_EVENT == 1], \n",
    "            y = heart_fail_data.creatinine_phosphokinase[(heart_fail_data.DEATH_EVENT == 1)], c = \"green\")\n",
    "plt.scatter(x = heart_fail_data.serum_creatinine[heart_fail_data.DEATH_EVENT == 0], \n",
    "            y = heart_fail_data.creatinine_phosphokinase[(heart_fail_data.DEATH_EVENT == 0)], c = 'black')\n",
    "plt.legend([\"Death Event = 1\", \"Death Event = 0\"])\n",
    "plt.xlabel(\"Serum Creatinine\")\n",
    "plt.ylabel(\"Creatine Phosphokinase\")\n",
    "plt.show()"
   ]
  },
  {
   "cell_type": "code",
   "execution_count": 50,
   "metadata": {},
   "outputs": [
    {
     "data": {
      "text/plain": [
       "-0.016408479546217356"
      ]
     },
     "execution_count": 50,
     "metadata": {},
     "output_type": "execute_result"
    }
   ],
   "source": [
    "heart_fail_data.serum_creatinine.corr(heart_fail_data.creatinine_phosphokinase)"
   ]
  },
  {
   "cell_type": "code",
   "execution_count": 51,
   "metadata": {},
   "outputs": [
    {
     "name": "stdout",
     "output_type": "stream",
     "text": [
      "0      0\n",
      "1      0\n",
      "2      0\n",
      "3      1\n",
      "4      1\n",
      "      ..\n",
      "294    0\n",
      "295    0\n",
      "296    0\n",
      "297    0\n",
      "298    0\n",
      "Name: anaemia, Length: 299, dtype: int64\n",
      "0      0\n",
      "1      0\n",
      "2      0\n",
      "3      0\n",
      "4      1\n",
      "      ..\n",
      "294    1\n",
      "295    0\n",
      "296    1\n",
      "297    0\n",
      "298    0\n",
      "Name: diabetes, Length: 299, dtype: int64\n",
      "0      1\n",
      "1      0\n",
      "2      0\n",
      "3      0\n",
      "4      0\n",
      "      ..\n",
      "294    1\n",
      "295    0\n",
      "296    0\n",
      "297    0\n",
      "298    0\n",
      "Name: high_blood_pressure, Length: 299, dtype: int64\n",
      "0      0\n",
      "1      0\n",
      "2      1\n",
      "3      0\n",
      "4      0\n",
      "      ..\n",
      "294    1\n",
      "295    0\n",
      "296    0\n",
      "297    1\n",
      "298    1\n",
      "Name: smoking, Length: 299, dtype: int64\n",
      "0      1\n",
      "1      1\n",
      "2      1\n",
      "3      1\n",
      "4      0\n",
      "      ..\n",
      "294    1\n",
      "295    0\n",
      "296    0\n",
      "297    1\n",
      "298    1\n",
      "Name: sex, Length: 299, dtype: int64\n",
      "0      1\n",
      "1      1\n",
      "2      1\n",
      "3      1\n",
      "4      1\n",
      "      ..\n",
      "294    0\n",
      "295    0\n",
      "296    0\n",
      "297    0\n",
      "298    0\n",
      "Name: DEATH_EVENT, Length: 299, dtype: int64\n"
     ]
    },
    {
     "data": {
      "text/plain": [
       "-0.012623152709359643"
      ]
     },
     "execution_count": 51,
     "metadata": {},
     "output_type": "execute_result"
    }
   ],
   "source": [
    "print(df_heart['anaemia'])\n",
    "print(df_heart['diabetes'])\n",
    "print(df_heart['high_blood_pressure'])\n",
    "print(df_heart['smoking'])\n",
    "\n",
    "\n",
    "print(df_heart['sex'])\n",
    "print(df_heart['DEATH_EVENT'])\n",
    "df_heart['smoking'].corr(df_heart['DEATH_EVENT'])"
   ]
  },
  {
   "cell_type": "code",
   "execution_count": null,
   "metadata": {},
   "outputs": [],
   "source": []
  }
 ],
 "metadata": {
  "kernelspec": {
   "display_name": "Python 3",
   "language": "python",
   "name": "python3"
  },
  "language_info": {
   "codemirror_mode": {
    "name": "ipython",
    "version": 3
   },
   "file_extension": ".py",
   "mimetype": "text/x-python",
   "name": "python",
   "nbconvert_exporter": "python",
   "pygments_lexer": "ipython3",
   "version": "3.8.5"
  }
 },
 "nbformat": 4,
 "nbformat_minor": 4
}
